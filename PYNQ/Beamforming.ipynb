{
 "cells": [
  {
   "cell_type": "code",
   "execution_count": 14,
   "metadata": {},
   "outputs": [
    {
     "data": {
      "text/plain": [
       "['DAS_data',\n",
       " 'DSA_X',\n",
       " 'DSA_Xe',\n",
       " 'DSA_Y',\n",
       " 'DAScompound64_0',\n",
       " 'processing_system7_0']"
      ]
     },
     "execution_count": 14,
     "metadata": {},
     "output_type": "execute_result"
    }
   ],
   "source": [
    "from pynq import Overlay\n",
    "\n",
    "ol = Overlay('./dsp_pynq.bit')\n",
    "\n",
    "list(ol.ip_dict.keys())"
   ]
  },
  {
   "cell_type": "code",
   "execution_count": 18,
   "metadata": {},
   "outputs": [
    {
     "name": "stdout",
     "output_type": "stream",
     "text": [
      "253\n",
      "390\n",
      "64\n",
      "64\n",
      "2560\n"
     ]
    }
   ],
   "source": [
    "ol.DAS_data.register_map\n",
    "import numpy\n",
    "import csv\n",
    "x = numpy.loadtxt(open(\"x.csv\",\"rb\"),dtype=numpy.int16,delimiter=',',skiprows=0)\n",
    "y = numpy.loadtxt(open(\"y.csv\",\"rb\"),dtype=numpy.int16,delimiter=',',skiprows=0)\n",
    "xele = numpy.loadtxt(open(\"xele.csv\",\"rb\"),dtype=numpy.int16,delimiter=',',skiprows=0)\n",
    "Din = numpy.loadtxt(open(\"DIn.csv\",\"rb\"),dtype=numpy.int16,delimiter=',',skiprows=0)\n",
    "\n",
    "DAS_data = ol.DAS_data\n",
    "DSA_X = ol.DSA_X\n",
    "DSA_Xe = ol.DSA_Xe\n",
    "DSA_Y = ol.DSA_Y\n",
    "print(len(x))\n",
    "print(len(y))\n",
    "print(len(xele))\n",
    "print(len(Din[0]))\n",
    "print(len(Din))"
   ]
  },
  {
   "cell_type": "code",
   "execution_count": 34,
   "metadata": {},
   "outputs": [
    {
     "ename": "RuntimeError",
     "evalue": "DMA channel not idle",
     "output_type": "error",
     "traceback": [
      "\u001b[0;31m---------------------------------------------------------------------------\u001b[0m",
      "\u001b[0;31mRuntimeError\u001b[0m                              Traceback (most recent call last)",
      "\u001b[0;32m<ipython-input-34-80fa96ed559c>\u001b[0m in \u001b[0;36m<module>\u001b[0;34m()\u001b[0m\n\u001b[1;32m     38\u001b[0m \u001b[0;31m# Transfer\u001b[0m\u001b[0;34m\u001b[0m\u001b[0;34m\u001b[0m\u001b[0m\n\u001b[1;32m     39\u001b[0m \u001b[0;31m#for i in range(0,max_iters):\u001b[0m\u001b[0;34m\u001b[0m\u001b[0;34m\u001b[0m\u001b[0m\n\u001b[0;32m---> 40\u001b[0;31m \u001b[0mDSA_X\u001b[0m\u001b[0;34m.\u001b[0m\u001b[0msendchannel\u001b[0m\u001b[0;34m.\u001b[0m\u001b[0mtransfer\u001b[0m\u001b[0;34m(\u001b[0m\u001b[0mx_in_buffer\u001b[0m\u001b[0;34m)\u001b[0m\u001b[0;34m\u001b[0m\u001b[0m\n\u001b[0m\u001b[1;32m     41\u001b[0m \u001b[0mDSA_Y\u001b[0m\u001b[0;34m.\u001b[0m\u001b[0msendchannel\u001b[0m\u001b[0;34m.\u001b[0m\u001b[0mtransfer\u001b[0m\u001b[0;34m(\u001b[0m\u001b[0my_in_buffer\u001b[0m\u001b[0;34m)\u001b[0m\u001b[0;34m\u001b[0m\u001b[0m\n\u001b[1;32m     42\u001b[0m \u001b[0mDSA_Xe\u001b[0m\u001b[0;34m.\u001b[0m\u001b[0msendchannel\u001b[0m\u001b[0;34m.\u001b[0m\u001b[0mtransfer\u001b[0m\u001b[0;34m(\u001b[0m\u001b[0mxele\u001b[0m\u001b[0;34m[\u001b[0m\u001b[0;36m0\u001b[0m\u001b[0;34m]\u001b[0m\u001b[0;34m)\u001b[0m\u001b[0;34m\u001b[0m\u001b[0m\n",
      "\u001b[0;32m/usr/local/lib/python3.6/dist-packages/pynq/lib/dma.py\u001b[0m in \u001b[0;36mtransfer\u001b[0;34m(self, array, start, nbytes)\u001b[0m\n\u001b[1;32m    172\u001b[0m             \u001b[0;32mraise\u001b[0m \u001b[0mRuntimeError\u001b[0m\u001b[0;34m(\u001b[0m\u001b[0;34m'DMA channel not started'\u001b[0m\u001b[0;34m)\u001b[0m\u001b[0;34m\u001b[0m\u001b[0m\n\u001b[1;32m    173\u001b[0m         \u001b[0;32mif\u001b[0m \u001b[0;32mnot\u001b[0m \u001b[0mself\u001b[0m\u001b[0;34m.\u001b[0m\u001b[0midle\u001b[0m \u001b[0;32mand\u001b[0m \u001b[0;32mnot\u001b[0m \u001b[0mself\u001b[0m\u001b[0;34m.\u001b[0m\u001b[0m_first_transfer\u001b[0m\u001b[0;34m:\u001b[0m\u001b[0;34m\u001b[0m\u001b[0m\n\u001b[0;32m--> 174\u001b[0;31m             \u001b[0;32mraise\u001b[0m \u001b[0mRuntimeError\u001b[0m\u001b[0;34m(\u001b[0m\u001b[0;34m'DMA channel not idle'\u001b[0m\u001b[0;34m)\u001b[0m\u001b[0;34m\u001b[0m\u001b[0m\n\u001b[0m\u001b[1;32m    175\u001b[0m         \u001b[0;32mif\u001b[0m \u001b[0mnbytes\u001b[0m \u001b[0;34m==\u001b[0m \u001b[0;36m0\u001b[0m\u001b[0;34m:\u001b[0m\u001b[0;34m\u001b[0m\u001b[0m\n\u001b[1;32m    176\u001b[0m             \u001b[0mnbytes\u001b[0m \u001b[0;34m=\u001b[0m \u001b[0marray\u001b[0m\u001b[0;34m.\u001b[0m\u001b[0mnbytes\u001b[0m \u001b[0;34m-\u001b[0m \u001b[0mstart\u001b[0m\u001b[0;34m\u001b[0m\u001b[0m\n",
      "\u001b[0;31mRuntimeError\u001b[0m: DMA channel not idle"
     ]
    }
   ],
   "source": [
    "from pynq import allocate\n",
    "# Create DMA buffer for coefs\n",
    "#fir_buffer_reload = allocate(shape=(len(hpf_coeffs_hw),),dtype=np.int16)\n",
    "\n",
    "# Copy coefs to buffer\n",
    "#for i in range(len(hpf_coeffs_hw)):\n",
    " #   fir_buffer_reload[i] = hpf_coeffs_hw[i]\n",
    "\n",
    "# Transfer coefficients to FIR\n",
    "#dma_reload.sendchannel.transfer(fir_buffer_reload)\n",
    "#dma_reload.sendchannel.wait()\n",
    "\n",
    "# Send an empty 8-bit packet to FIR config port to complete reload\n",
    "#control_buffer_config = allocate(shape=(1,),dtype=numpy.int32)\n",
    "#control_buffer_config[0] = 0\n",
    "#control.sendchannel.transfer(control_buffer_config)\n",
    "#control.sendchannel.wait()\n",
    "\n",
    "# Close the buffers\n",
    "#control_buffer_config.close()\n",
    "\n",
    "# Create DMA buffer\n",
    "x_in_buffer = allocate(shape=(len(x),),dtype=numpy.int16)\n",
    "y_in_buffer = allocate(shape=(len(y),),dtype=numpy.int16)\n",
    "xele_in_buffer = allocate(shape=(1,),dtype=numpy.int16)\n",
    "din_buffer = allocate(shape=(len(Din),),dtype=numpy.int16)\n",
    "data_out_buffer = allocate(shape=(len(x)*len(y),),dtype=numpy.int16)\n",
    "\n",
    "# Copy data to buffer\n",
    "for i in range(len(x)):\n",
    "    x_in_buffer[i] = x[i]\n",
    "for j in range(len(y)):\n",
    "    y_in_buffer[j] = y[j]\n",
    "for k in range(len(Din)):\n",
    "    din_buffer[k] = Din[k,0]\n",
    "#xele_in_buffer = xele[0]\n",
    "\n",
    "# Transfer\n",
    "#for i in range(0,max_iters):\n",
    "DSA_X.sendchannel.transfer(x_in_buffer)\n",
    "DSA_Y.sendchannel.transfer(y_in_buffer)\n",
    "DSA_Xe.sendchannel.transfer(xele[0])\n",
    "AS_data.sendchannel.transfer(din_buffer)\n",
    "DAS_data.recvchannel.transfer(data_out_buffer)\n",
    "\n",
    "DSA_X.sendchannel.wait()\n",
    "DSA_Y.sendchannel.wait()\n",
    "DSA_Xe.sendchannel.wait()\n",
    "DAS_data.sendchannel.wait()\n",
    "DAS_data.recvchannel.wait()\n",
    "\n",
    "data = data_out_buffer\n",
    "numpy.savetxt('Hilbert.csv',data,delimiter=',')"
   ]
  },
  {
   "cell_type": "code",
   "execution_count": null,
   "metadata": {},
   "outputs": [],
   "source": []
  },
  {
   "cell_type": "code",
   "execution_count": null,
   "metadata": {},
   "outputs": [],
   "source": []
  }
 ],
 "metadata": {
  "kernelspec": {
   "display_name": "Python 3",
   "language": "python",
   "name": "python3"
  },
  "language_info": {
   "codemirror_mode": {
    "name": "ipython",
    "version": 3
   },
   "file_extension": ".py",
   "mimetype": "text/x-python",
   "name": "python",
   "nbconvert_exporter": "python",
   "pygments_lexer": "ipython3",
   "version": "3.6.5"
  }
 },
 "nbformat": 4,
 "nbformat_minor": 2
}
